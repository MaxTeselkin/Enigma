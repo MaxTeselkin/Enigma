{
 "cells": [
  {
   "cell_type": "markdown",
   "id": "continuing-modeling",
   "metadata": {},
   "source": [
    "# Enigma: functional programming project"
   ]
  },
  {
   "cell_type": "code",
   "execution_count": 1,
   "id": "lyric-transition",
   "metadata": {},
   "outputs": [],
   "source": [
    "# Encryption Rotor function\n",
    "def rotor(symbol, n, reverse=False):\n",
    "    alphabet = 'ABCDEFGHIJKLMNOPQRSTUVWXYZ'\n",
    "    rotors = {0: 'ABCDEFGHIJKLMNOPQRSTUVWXYZ',\n",
    "          1: 'EKMFLGDQVZNTOWYHXUSPAIBRCJ',\n",
    "          2: 'AJDKSIRUXBLHWTMCQGZNPYFVOE',\n",
    "          3: 'BDFHJLCPRTXVZNYEIWGAKMUSQO'\n",
    "          }\n",
    "    disc = rotors.get(n)\n",
    "    if not reverse:\n",
    "        index = alphabet.index(symbol)\n",
    "        encrypted = disc[index]\n",
    "        return encrypted\n",
    "    else:\n",
    "        index = disc.index(symbol)\n",
    "        decrypted = alphabet[index]\n",
    "        return decrypted"
   ]
  },
  {
   "cell_type": "code",
   "execution_count": 2,
   "id": "provincial-world",
   "metadata": {},
   "outputs": [],
   "source": [
    "# Encryprion Reflector function\n",
    "def reflector(symbol, n):   \n",
    "    reflectors = {0: 'ABCDEFGHIJKLMNOPQRSTUVWXYZ',\n",
    "                  1: 'YRUHQSLDPXNGOKMIEBFZCWVJAT',\n",
    "                  2: 'FVPJIAOYEDRZXWGCTKUQSBNMHL',\n",
    "                  3: 'ENKQAUYWJICOPBLMDXZVFTHRGS',\n",
    "                  4: 'RDOBJNTKVEHMLFCWZAXGYIPSUQ',\n",
    "                  }\n",
    "    A, B = ((reflectors[n], reflectors[0]))\n",
    "    return A[B.index(symbol)]"
   ]
  },
  {
   "cell_type": "markdown",
   "id": "focal-refrigerator",
   "metadata": {},
   "source": [
    "We have N rotors of different types and a reflector.\n",
    "\n",
    "The signal passes through the rotors sequentially. That is, inside the rotor, one symbol is replaced by another according to the rotor specification (we have implemented 4 such symbols).\n",
    "\n",
    "Then the signal is transmitted from one Rotor to another. In this case, the Rotors can be either combined (i.e., opposite each output symbol of the 1 rotor is the same symbol of the 2 rotor), or shifted (in fact, this is Caesar encryption with some kind of shift).\n",
    "\n",
    "The signal reaches the reflector, which is also encrypted.\n",
    "\n",
    "The signal begins the reverse journey through the rotors, being encrypted on each of them (with a reverse offset), and also, if the rotors are not combined, then it is encrypted with the Caesar cipher when switching from one Rotor to another.\n",
    "\n",
    "<img src='Enigma.png'/>\n",
    "\n",
    "More about how Enigma works: https://www.codesandciphers.org.uk/enigma/example1.htm"
   ]
  },
  {
   "cell_type": "markdown",
   "id": "younger-cache",
   "metadata": {},
   "source": [
    "# Enigma v.0.1\n",
    "\n",
    "Let's create a simplified version of Enigma with the help of rotor and reflector functions above. In this version we will use 3 rotors and 1 reflector. There will be no displacements and no movement of the rotors/reflectors.\n",
    "\n",
    "We need to implement the function enigma(text, ref, rot1, rot2, rot3), where:\n",
    "\n",
    "    text - the source text to be encrypted\n",
    "    ref - the number of the reflector\n",
    "    rot1, rot2, rot3 - the numbers of the rotors"
   ]
  },
  {
   "cell_type": "code",
   "execution_count": 3,
   "id": "uniform-delivery",
   "metadata": {},
   "outputs": [],
   "source": [
    "def enigma(text, ref, rot1, rot2, rot3):\n",
    "    encrypted = ''\n",
    "    text = [i for i in text if i.isalpha()]\n",
    "    text = ''.join(text).upper()\n",
    "    for letter in text:\n",
    "        symbol1 = rotor(letter, rot3, reverse=False)\n",
    "        symbol2 = rotor(symbol1, rot2, reverse=False)\n",
    "        symbol3 = rotor(symbol2, rot1, reverse=False)\n",
    "        symbol4 = reflector(symbol3, ref)\n",
    "        symbol5 = rotor(symbol4, rot1, reverse=True)\n",
    "        symbol6 = rotor(symbol5, rot2, reverse=True)\n",
    "        symbol7 = rotor(symbol6, rot3, reverse=True)\n",
    "        encrypted += symbol7\n",
    "    return encrypted"
   ]
  },
  {
   "cell_type": "markdown",
   "id": "satellite-devon",
   "metadata": {},
   "source": [
    "We already know that rotors are used for encryption in Enigma. But they can also be rotated around their axis. In Enigma, it is not the displacement of the rotors relative to each other that is set, but the position of the rotors relative to the axis.\n",
    "\n",
    "In fact, it means that Caesar cipher (about this technique you can read in next cell) is used not only when the signal passes from the rotor to the rotor, but also BEFORE the signal from the keyboard hits the rightmost rotor, as well as AFTER passing the right rotor (before exiting).\n",
    "\n",
    "We will set the position of each rotor by a number (from 0 to 25).\n",
    "\n",
    "Do not forget that a positive offset on the road \"there\" turns into a negative offset on the road \"back\".\n",
    "\n",
    "Key points:\n",
    "\n",
    "    1) The offset when hitting the right rotor from the keyboard is equal to the displacement of the rotor relative to the axis\n",
    "    2) The displacement when hitting from one rotor to another is equal to the difference between the displacement of the rotors relative to the axis\n",
    "    3) The displacement when hit from the left rotor to the reflector is equal to the displacement of this rotor relative to the axis and back in sign\n",
    "    4) The displacement when hit from the right rotor to the indicator (to the output) is equal to the displacement of the rotor relative to the axis and back along the sign"
   ]
  },
  {
   "cell_type": "markdown",
   "id": "hidden-classic",
   "metadata": {},
   "source": [
    "**Caesar cipher**\n",
    "\n",
    "To take the rotation of the rotors into account, it is necessary to create caesar function, which will allow us to use Caesar cipher encryprion technique. Here we replace each character with another according to a certain rule, \"shifting\" it in the alphabet. This is what we do for each character.\n",
    "\n",
    "<img src='caesar_cipher.png'/>\n",
    "\n",
    "The Caesar cipher with a shift of 3:\n",
    "\n",
    "    A is replaced by D\n",
    "    B is replaced by E\n",
    "    and so on\n",
    "    Z is replaced by C\n",
    "\n",
    "So if we reach the end of the alphabet, then we start again."
   ]
  },
  {
   "cell_type": "markdown",
   "id": "placed-recording",
   "metadata": {},
   "source": [
    "# Enigma v.0.2\n",
    "\n",
    "We will implement the function enigma(text, ref, rot1, shift1, rot2, shift2, rot3, shift3) with rotating motors, as they are described in the previous step.\n",
    "\n",
    "    text - the source text to be encrypted\n",
    "    ref - the number of the reflector\n",
    "    rot1, rot2, rot3 - the numbers of the rotors\n",
    "    shift1, shift2, shift3 - the shifts of the rotors (1, 2 and 3 respectively)"
   ]
  },
  {
   "cell_type": "code",
   "execution_count": 4,
   "id": "british-telescope",
   "metadata": {},
   "outputs": [],
   "source": [
    "# Caesar cipher function\n",
    "def caesar(text, key, alphabet = 'ABCDEFGHIJKLMNOPQRSTUVWXYZ'):\n",
    "    text = [i for i in text if i.isalpha() or i.isdigit()]\n",
    "    text = ''.join(text).upper()\n",
    "    encrypted = ''\n",
    "    for letter in text:\n",
    "        index = (alphabet.index(letter) + key) % (len(alphabet))\n",
    "        encrypted += alphabet[index]\n",
    "    return encrypted"
   ]
  },
  {
   "cell_type": "code",
   "execution_count": 5,
   "id": "rising-lightweight",
   "metadata": {},
   "outputs": [],
   "source": [
    "# Enigma v.0.2 function\n",
    "def enigma(text, ref, rot1, shift1, rot2, shift2, rot3, shift3):\n",
    "    encrypted = ''\n",
    "    text = [i for i in text if i.isalpha()]\n",
    "    text = ''.join(text).upper()\n",
    "    for letter in text:\n",
    "        symbol1 = caesar(letter, shift3)\n",
    "        symbol2 = rotor(symbol1, rot3, reverse=False)\n",
    "        symbol3 = caesar(symbol2, shift2 - shift3)\n",
    "        symbol4 = rotor(symbol3, rot2, reverse=False)\n",
    "        symbol5 = caesar(symbol4, shift1 - shift2)\n",
    "        symbol6 = rotor(symbol5, rot1, reverse=False)\n",
    "        symbol7 = caesar(symbol6, -shift1)\n",
    "        symbol8 = reflector(symbol7, ref)\n",
    "        symbol9 = caesar(symbol8, shift1)\n",
    "        symbol10 = rotor(symbol9, rot1, reverse=True)\n",
    "        symbol11 = caesar(symbol10, shift2 - shift1)\n",
    "        symbol12 = rotor(symbol11, rot2, reverse=True)\n",
    "        symbol13 = caesar(symbol12, shift3 - shift2)\n",
    "        symbol14 = rotor(symbol13, rot3, reverse=True)\n",
    "        symbol15 = caesar(symbol14, -shift3)\n",
    "        encrypted += symbol15\n",
    "    return encrypted"
   ]
  },
  {
   "cell_type": "markdown",
   "id": "suspended-praise",
   "metadata": {},
   "source": [
    "But that's not all: the rotors of a real Enigma turn right during the operation of the machine.\n",
    "After pressing a key on the keyboard and before transferring it to the right rotor, it is shifted by 1 position each time any button is pressed. That is, if the position of the rotor was 0 at the beginning of the encryption process, then the first character is encrypted with an offset of +1 on the right rotor. The next character is encrypted with an offset +2. etc.\n",
    "Each rotor has a special mechanism that allows you to turn the neighboring one (located to the left) the rotor under certain conditions. The condition is to achieve a certain offset:\n",
    "\n",
    "    Rotor 1-at 17\n",
    "    Rotor 2-at 5\n",
    "    Rotor 3-at 22\n",
    "    \n",
    "Now let's impove our enigma function and take new features into account."
   ]
  },
  {
   "cell_type": "code",
   "execution_count": 6,
   "id": "liked-pressure",
   "metadata": {},
   "outputs": [],
   "source": [
    "def enigma(text, ref, rot1, shift1, rot2, shift2, rot3, shift3):\n",
    "    dictionary = {3: 22, 2: 5, 1: 17}\n",
    "    neighbor = False\n",
    "    encrypted = ''\n",
    "    text = [i for i in text if i.isalpha()]\n",
    "    text = ''.join(text).upper()\n",
    "    for letter in text:\n",
    "        shift3 += 1\n",
    "        if shift3 == dictionary.get(rot3):\n",
    "            shift2 += 1\n",
    "        if neighbor:\n",
    "            shift2 += 1\n",
    "            shift1 += 1\n",
    "            neighbor = False\n",
    "        if shift2 == dictionary.get(rot2) - 1:\n",
    "            neighbor = True\n",
    "        if shift3 == 26:\n",
    "            shift3 = 0\n",
    "        if shift2 == 26:\n",
    "            shift2 = 0\n",
    "        if shift1 == 26:\n",
    "            shift1 = 0\n",
    "        symbol1 = caesar(letter, shift3)\n",
    "        symbol2 = rotor(symbol1, rot3, reverse=False)\n",
    "        symbol3 = caesar(symbol2, shift2 - shift3)\n",
    "        symbol4 = rotor(symbol3, rot2, reverse=False)\n",
    "        symbol5 = caesar(symbol4, shift1 - shift2)\n",
    "        symbol6 = rotor(symbol5, rot1, reverse=False)\n",
    "        symbol7 = caesar(symbol6, -shift1)\n",
    "        symbol8 = reflector(symbol7, ref)\n",
    "        symbol9 = caesar(symbol8, shift1)\n",
    "        symbol10 = rotor(symbol9, rot1, reverse=True)\n",
    "        symbol11 = caesar(symbol10, shift2 - shift1)\n",
    "        symbol12 = rotor(symbol11, rot2, reverse=True)\n",
    "        symbol13 = caesar(symbol12, shift3 - shift2)\n",
    "        symbol14 = rotor(symbol13, rot3, reverse=True)\n",
    "        symbol15 = caesar(symbol14, -shift3)\n",
    "        encrypted += symbol15.upper()\n",
    "    return encrypted"
   ]
  },
  {
   "cell_type": "markdown",
   "id": "prospective-weapon",
   "metadata": {},
   "source": [
    "Now pay attention to the pairwise connections using flexible wires at the bottom. These are the connectors corresponding to all the symbols.\n",
    "\n",
    "Connecting them in pairs with wires, the operator replaces them (in each such pair) before sending them for encryption and after.\n",
    "\n",
    "If some characters are not switched, then they are not replaced.\n",
    "\n",
    "\n",
    "Imagine we use Rotors 1, 2, 3 and a reflector of type \"B\", without an initial offset.\n",
    "\n",
    "Usually, with such encryption, we get \"B\" from the symbol \"A\".\n",
    "\n",
    "Commute 2 characters: \"A\" and \"With\".\n",
    "\n",
    "Now, BEFORE encryption, \"A\" will turn into\"C\". \"C\" is encrypted in \"Q\".\n",
    "\n",
    "If we commuted 2 pairs of characters: \"A\" and \" C \" + \"Q\" and \"D\", the process would look like this:\n",
    "\n",
    "    BEFORE encryption, \"A\" will turn into\"C\".\n",
    "    \"C\" is encrypted in \"Q\".\n",
    "    AFTER encryption, \"Q\" turns into \"D\"."
   ]
  },
  {
   "cell_type": "markdown",
   "id": "atmospheric-producer",
   "metadata": {},
   "source": [
    "# Enigma v.1\n",
    "\n",
    "Now let's add pairs argument to our enigma function. This argument will be used for string character replacement."
   ]
  },
  {
   "cell_type": "code",
   "execution_count": 7,
   "id": "closed-carol",
   "metadata": {},
   "outputs": [],
   "source": [
    "def enigma(text, ref, rot1, shift1, rot2, shift2, rot3, shift3, pairs=\"\"):\n",
    "    pairs = pairs.replace(' ', '').upper()\n",
    "    if len(pairs) != len(set(pairs)):\n",
    "        return 'Sorry, it is impossible to perform switching'\n",
    "    if pairs:\n",
    "        pairs = [pairs[i:i+2] for i in range(0, len(pairs), 2)]\n",
    "        dict_pairs = {}\n",
    "        for pair in pairs:\n",
    "            pair = pair.upper()\n",
    "            dict_pairs[pair[0]] = pair[1]\n",
    "            dict_pairs[pair[1]] = pair[0]\n",
    "    dictionary = {3: 22, 2: 5, 1: 17}\n",
    "    neighbor = False\n",
    "    encrypted = ''\n",
    "    text = [i for i in text if i.isalpha()]\n",
    "    text = ''.join(text).upper()\n",
    "    for letter in text:\n",
    "        if pairs:\n",
    "            if letter in dict_pairs.keys():\n",
    "                letter = dict_pairs.get(letter)\n",
    "        shift3 += 1\n",
    "        if shift3 == dictionary.get(rot3):\n",
    "            shift2 += 1\n",
    "        if neighbor:\n",
    "            shift2 += 1\n",
    "            shift1 += 1\n",
    "            neighbor = False\n",
    "        if shift2 == dictionary.get(rot2) - 1:\n",
    "            neighbor = True\n",
    "        if shift3 == 26:\n",
    "            shift3 = 0\n",
    "        if shift2 == 26:\n",
    "            shift2 = 0\n",
    "        if shift1 == 26:\n",
    "            shift1 = 0\n",
    "        symbol1 = caesar(letter, shift3)\n",
    "        symbol2 = rotor(symbol1, rot3, reverse=False)\n",
    "        symbol3 = caesar(symbol2, shift2 - shift3)\n",
    "        symbol4 = rotor(symbol3, rot2, reverse=False)\n",
    "        symbol5 = caesar(symbol4, shift1 - shift2)\n",
    "        symbol6 = rotor(symbol5, rot1, reverse=False)\n",
    "        symbol7 = caesar(symbol6, -shift1)\n",
    "        symbol8 = reflector(symbol7, ref)\n",
    "        symbol9 = caesar(symbol8, shift1)\n",
    "        symbol10 = rotor(symbol9, rot1, reverse=True)\n",
    "        symbol11 = caesar(symbol10, shift2 - shift1)\n",
    "        symbol12 = rotor(symbol11, rot2, reverse=True)\n",
    "        symbol13 = caesar(symbol12, shift3 - shift2)\n",
    "        symbol14 = rotor(symbol13, rot3, reverse=True)\n",
    "        symbol15 = caesar(symbol14, -shift3)\n",
    "        if pairs:\n",
    "            if symbol15 in dict_pairs.keys():\n",
    "                symbol15 = dict_pairs.get(symbol15)\n",
    "        encrypted += symbol15\n",
    "    return encrypted"
   ]
  },
  {
   "cell_type": "markdown",
   "id": "indoor-stewart",
   "metadata": {},
   "source": [
    "Now let's encrypt some text"
   ]
  },
  {
   "cell_type": "code",
   "execution_count": 8,
   "id": "sustained-presentation",
   "metadata": {},
   "outputs": [
    {
     "data": {
      "text/plain": [
       "'OPCFOTZYHJKAKCTEA'"
      ]
     },
     "execution_count": 8,
     "metadata": {},
     "output_type": "execute_result"
    }
   ],
   "source": [
    "enigma('The target was found', 1, 1, 0, 2, 0, 3, 0)"
   ]
  }
 ],
 "metadata": {
  "kernelspec": {
   "display_name": "Python 3",
   "language": "python",
   "name": "python3"
  },
  "language_info": {
   "codemirror_mode": {
    "name": "ipython",
    "version": 3
   },
   "file_extension": ".py",
   "mimetype": "text/x-python",
   "name": "python",
   "nbconvert_exporter": "python",
   "pygments_lexer": "ipython3",
   "version": "3.8.5"
  },
  "varInspector": {
   "cols": {
    "lenName": 16,
    "lenType": 16,
    "lenVar": 40
   },
   "kernels_config": {
    "python": {
     "delete_cmd_postfix": "",
     "delete_cmd_prefix": "del ",
     "library": "var_list.py",
     "varRefreshCmd": "print(var_dic_list())"
    },
    "r": {
     "delete_cmd_postfix": ") ",
     "delete_cmd_prefix": "rm(",
     "library": "var_list.r",
     "varRefreshCmd": "cat(var_dic_list()) "
    }
   },
   "types_to_exclude": [
    "module",
    "function",
    "builtin_function_or_method",
    "instance",
    "_Feature"
   ],
   "window_display": false
  }
 },
 "nbformat": 4,
 "nbformat_minor": 5
}
